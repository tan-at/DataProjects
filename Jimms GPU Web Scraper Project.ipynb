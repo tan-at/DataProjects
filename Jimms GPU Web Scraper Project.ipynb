{
 "cells": [
  {
   "cell_type": "code",
   "execution_count": 6,
   "id": "1184bd67",
   "metadata": {},
   "outputs": [],
   "source": [
    "from bs4 import BeautifulSoup\n",
    "import requests\n",
    "import time\n",
    "import datetime\n",
    "\n",
    "import smtplib\n"
   ]
  },
  {
   "cell_type": "code",
   "execution_count": 175,
   "id": "2be82814",
   "metadata": {},
   "outputs": [
    {
     "name": "stdout",
     "output_type": "stream",
     "text": [
      "\n",
      "\n",
      "\n",
      "                 Asus\n",
      "                \n",
      "                GeForce RTX 3060 Ti DUAL - OC Edition (LHR) -näytönohjain, 8GB GDDR6\n",
      "               \n",
      "\n",
      "\n",
      "               879,90 €\n",
      "              \n"
     ]
    }
   ],
   "source": [
    "# Connect to the Wanted Website\n",
    "\n",
    "URL ='https://www.jimms.fi/fi/Product/List/000-00P/komponentit--naytonohjaimet'\n",
    "\n",
    "headers = {\"User-Agent\": 'Mozilla/5.0 (Windows NT 10.0; Win64; x64; rv:95.0) Gecko/20100101 Firefox/95.0'}\n",
    "\n",
    "page = requests.get(URL, headers=headers)\n",
    "\n",
    "soup1 = BeautifulSoup(page.content, \"html.parser\")\n",
    "\n",
    "soup2 = BeautifulSoup(soup1.prettify(), \"html.parser\")\n",
    "\n",
    "product = soup2.find(class_='p_name').get_text()\n",
    "\n",
    "price = soup2.find(class_=\"p_price\").get_text()\n",
    "\n",
    "#print(soup2)\n",
    "\n",
    "print(product)\n",
    "print(price)"
   ]
  },
  {
   "cell_type": "code",
   "execution_count": 176,
   "id": "c7ababf3",
   "metadata": {},
   "outputs": [
    {
     "name": "stdout",
     "output_type": "stream",
     "text": [
      "The brand: Asus\n",
      "The product: GeForce RTX 3060 Ti DUAL - OC Edition (LHR) -naytonohjain, 8GB GDDR6\n",
      "The price: 879,90\n"
     ]
    }
   ],
   "source": [
    "product = product.strip()\n",
    "brand = product\n",
    "\n",
    "y = ''\n",
    "counter = 0\n",
    "brandTemp = ''\n",
    "for x in brand:\n",
    "    counter = counter + 1\n",
    "    if (x == ' ') and (y == ' '):\n",
    "        brandTemp = brand[:(counter)]\n",
    "        break\n",
    "    y = x\n",
    "brand = brandTemp.strip()\n",
    "\n",
    "\n",
    "product = product[counter:]\n",
    "product = product.strip()\n",
    "product = product.replace('ä', 'a')\n",
    "product = product.replace('ö', 'o')\n",
    "\n",
    "price = price.strip()\n",
    "price = price.strip('€')\n",
    "price = price.strip()\n",
    "\n",
    "\n",
    "\n",
    "print(\"The brand: \" + brand)\n",
    "print(\"The product: \" + product)\n",
    "print(\"The price: \" + price)"
   ]
  },
  {
   "cell_type": "code",
   "execution_count": 178,
   "id": "58aaebc8",
   "metadata": {},
   "outputs": [],
   "source": [
    "today = datetime.date.today()"
   ]
  },
  {
   "cell_type": "code",
   "execution_count": 179,
   "id": "320e92d6",
   "metadata": {},
   "outputs": [],
   "source": [
    "import csv\n",
    "\n",
    "header = ['Brand', 'Product', 'Price', 'Date']\n",
    "data = [brand, product, price, today]\n",
    "\n",
    "#type(data)\n",
    "\n",
    "with open('JimmsWebScraperDataSet.csv', 'w', newline='', encoding='UTF8') as f:\n",
    "    writer = csv.writer(f)\n",
    "    writer.writerow(header)\n",
    "    writer.writerow(data)\n",
    "\n",
    "\n",
    "\n",
    "\n"
   ]
  },
  {
   "cell_type": "code",
   "execution_count": null,
   "id": "98fc3be2",
   "metadata": {},
   "outputs": [],
   "source": [
    "with open('JimmsWebScraperDataSet.csv', 'a+', newline='', encoding='UTF8') as f:\n",
    "    writer = csv.writer(f)\n",
    "    writer.writerow(data)"
   ]
  },
  {
   "cell_type": "code",
   "execution_count": 180,
   "id": "6bccdfb3",
   "metadata": {},
   "outputs": [],
   "source": [
    "def check_price():\n",
    "    URL ='https://www.jimms.fi/fi/Product/List/000-00P/komponentit--naytonohjaimet'\n",
    "\n",
    "    headers = {\"User-Agent\": 'Mozilla/5.0 (Windows NT 10.0; Win64; x64; rv:95.0) Gecko/20100101 Firefox/95.0'}\n",
    "\n",
    "    page = requests.get(URL, headers=headers)\n",
    "\n",
    "    soup1 = BeautifulSoup(page.content, \"html.parser\")\n",
    "\n",
    "    soup2 = BeautifulSoup(soup1.prettify(), \"html.parser\")\n",
    "\n",
    "    product = soup2.find(class_='p_name').get_text()\n",
    "\n",
    "    price = soup2.find(class_=\"p_price\").get_text()\n",
    "    \n",
    "    \n",
    "    product = product.strip()\n",
    "    brand = product\n",
    "\n",
    "    y = ''\n",
    "    counter = 0\n",
    "    brandTemp = ''\n",
    "    for x in brand:\n",
    "        counter = counter + 1\n",
    "        if (x == ' ') and (y == ' '):\n",
    "            brandTemp = brand[:(counter)]\n",
    "            break\n",
    "        y = x\n",
    "    brand = brandTemp.strip()\n",
    "\n",
    "    product = product[counter:]\n",
    "    product = product.strip()\n",
    "    product = product.replace('ä', 'a')\n",
    "    product = product.replace('ö', 'o')\n",
    "\n",
    "    price = price.strip()\n",
    "    price = price.strip('€')\n",
    "    price = price.strip()\n",
    "    \n",
    "    today = datetime.date.today()\n",
    "    \n",
    "    import csv\n",
    "\n",
    "    header = ['Brand', 'Product', 'Price', 'Date']\n",
    "    data = [brand, product, price, today]\n",
    "\n",
    "    with open('JimmsWebScraperDataSet.csv', 'a+', newline='', encoding='UTF8') as f:\n",
    "        writer = csv.writer(f)\n",
    "        writer.writerow(data)"
   ]
  },
  {
   "cell_type": "code",
   "execution_count": null,
   "id": "c9d34fa9",
   "metadata": {},
   "outputs": [],
   "source": [
    "while(True):\n",
    "    check_price()\n",
    "    time.sleep(86400)"
   ]
  },
  {
   "cell_type": "code",
   "execution_count": null,
   "id": "d0144199",
   "metadata": {},
   "outputs": [],
   "source": []
  }
 ],
 "metadata": {
  "kernelspec": {
   "display_name": "Python 3 (ipykernel)",
   "language": "python",
   "name": "python3"
  },
  "language_info": {
   "codemirror_mode": {
    "name": "ipython",
    "version": 3
   },
   "file_extension": ".py",
   "mimetype": "text/x-python",
   "name": "python",
   "nbconvert_exporter": "python",
   "pygments_lexer": "ipython3",
   "version": "3.9.7"
  }
 },
 "nbformat": 4,
 "nbformat_minor": 5
}

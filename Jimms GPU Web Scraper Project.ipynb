{
 "cells": [
  {
   "cell_type": "code",
   "execution_count": 1,
   "id": "54956cdd",
   "metadata": {},
   "outputs": [],
   "source": [
    "# Project for practising Web Scraping by collecting data about GPU manufacturers, models and prices from Jimms,\n",
    "an online store for components\n",
    "\n",
    "from bs4 import BeautifulSoup\n",
    "import requests\n",
    "import time\n",
    "import datetime\n",
    "import csv\n",
    "import smtplib\n",
    "import os"
   ]
  },
  {
   "cell_type": "code",
   "execution_count": 2,
   "id": "b5c726c3",
   "metadata": {},
   "outputs": [],
   "source": [
    "# Connect to the Wanted Website and recover the wanted data\n",
    "\n",
    "URL ='https://www.jimms.fi/fi/Product/List/000-00P/komponentit--naytonohjaimet'\n",
    "\n",
    "headers = {\"User-Agent\": 'Mozilla/5.0 (Windows NT 10.0; Win64; x64; rv:95.0) Gecko/20100101 Firefox/95.0'}\n",
    "\n",
    "page = requests.get(URL, headers=headers)\n",
    "\n",
    "soup1 = BeautifulSoup(page.content, \"html.parser\")\n",
    "\n",
    "soup2 = BeautifulSoup(soup1.prettify(), \"html.parser\")\n",
    "\n",
    "product = soup2.find(class_='p_name').get_text()\n",
    "\n",
    "price = soup2.find(class_=\"p_price\").get_text()"
   ]
  },
  {
   "cell_type": "code",
   "execution_count": 3,
   "id": "93d943e1",
   "metadata": {},
   "outputs": [
    {
     "name": "stdout",
     "output_type": "stream",
     "text": [
      "The brand: Asus\n",
      "The product: GeForce RTX 3060 DUAL - OC Edition V2 (LHR) -naytonohjain, 12GB GDDR6\n",
      "The price: 699,90\n"
     ]
    }
   ],
   "source": [
    "# Format the data into an easily readable form\n",
    "\n",
    "product = product.strip()\n",
    "brand = product\n",
    "\n",
    "y = ''\n",
    "counter = 0\n",
    "brandTemp = ''\n",
    "for x in brand:\n",
    "    counter = counter + 1\n",
    "    if (x == ' ') and (y == ' '):\n",
    "        brandTemp = brand[:(counter)]\n",
    "        break\n",
    "    y = x\n",
    "brand = brandTemp.strip()\n",
    "\n",
    "\n",
    "product = product[counter:]\n",
    "product = product.strip()\n",
    "product = product.replace('ä', 'a')\n",
    "product = product.replace('ö', 'o')\n",
    "\n",
    "price = price.strip()\n",
    "price = price.strip('€')\n",
    "price = price.strip()\n",
    "\n",
    "#print(\"The brand: \" + brand)\n",
    "#print(\"The product: \" + product)\n",
    "#print(\"The price: \" + price)"
   ]
  },
  {
   "cell_type": "code",
   "execution_count": 4,
   "id": "c4db9769",
   "metadata": {},
   "outputs": [],
   "source": [
    "# Write the data into an Excel file\n",
    "\n",
    "today = datetime.date.today()\n",
    "header = ['Brand', 'Product', 'Price', 'Date']\n",
    "data = [brand, product, price, today]\n",
    "\n",
    "with open('JimmsWebScraperDataSet.csv', 'w', newline='', encoding='UTF8') as f:\n",
    "    writer = csv.writer(f)\n",
    "    writer.writerow(header)\n",
    "    writer.writerow(data)"
   ]
  },
  {
   "cell_type": "code",
   "execution_count": 5,
   "id": "5b578075",
   "metadata": {},
   "outputs": [],
   "source": [
    "# Append data to an existing Excel file\n",
    "\n",
    "with open('JimmsWebScraperDataSet.csv', 'a+', newline='', encoding='UTF8') as f:\n",
    "    writer = csv.writer(f)\n",
    "    writer.writerow(data)"
   ]
  },
  {
   "cell_type": "code",
   "execution_count": 6,
   "id": "9d944c5e",
   "metadata": {},
   "outputs": [],
   "source": [
    "# All of the code above combined into one function\n",
    "\n",
    "def check_price():\n",
    "    URL ='https://www.jimms.fi/fi/Product/List/000-00P/komponentit--naytonohjaimet'\n",
    "\n",
    "    headers = {\"User-Agent\": 'Mozilla/5.0 (Windows NT 10.0; Win64; x64; rv:95.0) Gecko/20100101 Firefox/95.0'}\n",
    "\n",
    "    page = requests.get(URL, headers=headers)\n",
    "\n",
    "    soup1 = BeautifulSoup(page.content, \"html.parser\")\n",
    "\n",
    "    soup2 = BeautifulSoup(soup1.prettify(), \"html.parser\")\n",
    "\n",
    "    product = soup2.find(class_='p_name').get_text()\n",
    "\n",
    "    price = soup2.find(class_=\"p_price\").get_text()\n",
    "    \n",
    "    \n",
    "    product = product.strip()\n",
    "    brand = product\n",
    "\n",
    "    y = ''\n",
    "    counter = 0\n",
    "    brandTemp = ''\n",
    "    for x in brand:\n",
    "        counter = counter + 1\n",
    "        if (x == ' ') and (y == ' '):\n",
    "            brandTemp = brand[:(counter)]\n",
    "            break\n",
    "        y = x\n",
    "    brand = brandTemp.strip()\n",
    "\n",
    "    product = product[counter:]\n",
    "    product = product.strip()\n",
    "    product = product.replace('ä', 'a')\n",
    "    product = product.replace('ö', 'o')\n",
    "\n",
    "    price = price.strip()\n",
    "    price = price.strip('€')\n",
    "    price = price.strip()\n",
    "    \n",
    "    today = datetime.date.today()\n",
    "    header = ['Brand', 'Product', 'Price', 'Date']\n",
    "    data = [brand, product, price, today]\n",
    "    \n",
    "    # Check to see if the Excel file has already been created\n",
    "\n",
    "    filePath = 'C:/../JimmsWebScraperDataSet.csv'\n",
    "    if !(os.filePath.isFile(filePath)):\n",
    "        with open('JimmsWebScraperDataSet.csv', 'w', newline='', encoding='UTF8') as f:\n",
    "            writer = csv.writer(f)\n",
    "            writer.writerow(header)\n",
    "            writer.writerow(data)\n",
    "    else:\n",
    "        with open('JimmsWebScraperDataSet.csv', 'a+', newline='', encoding='UTF8') as f:\n",
    "            writer = csv.writer(f)\n",
    "            writer.writerow(data)"
   ]
  },
  {
   "cell_type": "code",
   "execution_count": null,
   "id": "aa49e1d6",
   "metadata": {},
   "outputs": [],
   "source": [
    "# Timer to call the function every _ seconds\n",
    "\n",
    "while(True):\n",
    "    check_price()\n",
    "    time.sleep(86400)"
   ]
  },
  {
   "cell_type": "code",
   "execution_count": null,
   "id": "25b7317c",
   "metadata": {},
   "outputs": [],
   "source": []
  }
 ],
 "metadata": {
  "kernelspec": {
   "display_name": "Python 3 (ipykernel)",
   "language": "python",
   "name": "python3"
  },
  "language_info": {
   "codemirror_mode": {
    "name": "ipython",
    "version": 3
   },
   "file_extension": ".py",
   "mimetype": "text/x-python",
   "name": "python",
   "nbconvert_exporter": "python",
   "pygments_lexer": "ipython3",
   "version": "3.9.7"
  }
 },
 "nbformat": 4,
 "nbformat_minor": 5
}
